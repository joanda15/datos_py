{
 "cells": [
  {
   "cell_type": "code",
   "execution_count": 1,
   "metadata": {},
   "outputs": [],
   "source": [
    "import pandas as pd"
   ]
  },
  {
   "cell_type": "code",
   "execution_count": 2,
   "metadata": {},
   "outputs": [],
   "source": [
    "archivo = 'pruebas_p.xlsx'\n",
    "df = pd.read_excel(archivo)"
   ]
  },
  {
   "cell_type": "code",
   "execution_count": 3,
   "metadata": {},
   "outputs": [
    {
     "data": {
      "text/html": [
       "<div>\n",
       "<style scoped>\n",
       "    .dataframe tbody tr th:only-of-type {\n",
       "        vertical-align: middle;\n",
       "    }\n",
       "\n",
       "    .dataframe tbody tr th {\n",
       "        vertical-align: top;\n",
       "    }\n",
       "\n",
       "    .dataframe thead th {\n",
       "        text-align: right;\n",
       "    }\n",
       "</style>\n",
       "<table border=\"1\" class=\"dataframe\">\n",
       "  <thead>\n",
       "    <tr style=\"text-align: right;\">\n",
       "      <th></th>\n",
       "      <th>ID Venta</th>\n",
       "      <th>Fecha</th>\n",
       "      <th>Producto</th>\n",
       "      <th>Categoría</th>\n",
       "      <th>Cantidad</th>\n",
       "      <th>Precio Unitario (USD)</th>\n",
       "      <th>Total Venta (USD)</th>\n",
       "      <th>Vendedor</th>\n",
       "      <th>Región</th>\n",
       "    </tr>\n",
       "  </thead>\n",
       "  <tbody>\n",
       "    <tr>\n",
       "      <th>0</th>\n",
       "      <td>1001</td>\n",
       "      <td>2024-07-01</td>\n",
       "      <td>Televisor 50\"</td>\n",
       "      <td>Electrónica</td>\n",
       "      <td>2</td>\n",
       "      <td>500</td>\n",
       "      <td>1000</td>\n",
       "      <td>Juan Pérez</td>\n",
       "      <td>Norte</td>\n",
       "    </tr>\n",
       "    <tr>\n",
       "      <th>1</th>\n",
       "      <td>1002</td>\n",
       "      <td>2024-07-02</td>\n",
       "      <td>Smartphone</td>\n",
       "      <td>Móviles</td>\n",
       "      <td>5</td>\n",
       "      <td>300</td>\n",
       "      <td>1500</td>\n",
       "      <td>Ana Martínez</td>\n",
       "      <td>Sur</td>\n",
       "    </tr>\n",
       "    <tr>\n",
       "      <th>2</th>\n",
       "      <td>1003</td>\n",
       "      <td>2024-07-03</td>\n",
       "      <td>Laptop 15\"</td>\n",
       "      <td>Computación</td>\n",
       "      <td>3</td>\n",
       "      <td>700</td>\n",
       "      <td>2100</td>\n",
       "      <td>Luis Rodríguez</td>\n",
       "      <td>Este</td>\n",
       "    </tr>\n",
       "    <tr>\n",
       "      <th>3</th>\n",
       "      <td>1004</td>\n",
       "      <td>2024-07-04</td>\n",
       "      <td>Tablet 10\"</td>\n",
       "      <td>Móviles</td>\n",
       "      <td>4</td>\n",
       "      <td>200</td>\n",
       "      <td>800</td>\n",
       "      <td>Marta Fernández</td>\n",
       "      <td>Oeste</td>\n",
       "    </tr>\n",
       "    <tr>\n",
       "      <th>4</th>\n",
       "      <td>1005</td>\n",
       "      <td>2024-07-05</td>\n",
       "      <td>Auriculares Bluetooth</td>\n",
       "      <td>Accesorios</td>\n",
       "      <td>10</td>\n",
       "      <td>50</td>\n",
       "      <td>500</td>\n",
       "      <td>Juan Pérez</td>\n",
       "      <td>Norte</td>\n",
       "    </tr>\n",
       "  </tbody>\n",
       "</table>\n",
       "</div>"
      ],
      "text/plain": [
       "   ID Venta      Fecha               Producto    Categoría  Cantidad  \\\n",
       "0      1001 2024-07-01          Televisor 50\"  Electrónica         2   \n",
       "1      1002 2024-07-02             Smartphone      Móviles         5   \n",
       "2      1003 2024-07-03             Laptop 15\"  Computación         3   \n",
       "3      1004 2024-07-04             Tablet 10\"      Móviles         4   \n",
       "4      1005 2024-07-05  Auriculares Bluetooth   Accesorios        10   \n",
       "\n",
       "   Precio Unitario (USD)  Total Venta (USD)         Vendedor Región  \n",
       "0                    500               1000       Juan Pérez  Norte  \n",
       "1                    300               1500     Ana Martínez    Sur  \n",
       "2                    700               2100   Luis Rodríguez   Este  \n",
       "3                    200                800  Marta Fernández  Oeste  \n",
       "4                     50                500       Juan Pérez  Norte  "
      ]
     },
     "execution_count": 3,
     "metadata": {},
     "output_type": "execute_result"
    }
   ],
   "source": [
    "df.head()"
   ]
  }
 ],
 "metadata": {
  "kernelspec": {
   "display_name": "env",
   "language": "python",
   "name": "python3"
  },
  "language_info": {
   "codemirror_mode": {
    "name": "ipython",
    "version": 3
   },
   "file_extension": ".py",
   "mimetype": "text/x-python",
   "name": "python",
   "nbconvert_exporter": "python",
   "pygments_lexer": "ipython3",
   "version": "3.12.4"
  }
 },
 "nbformat": 4,
 "nbformat_minor": 2
}
